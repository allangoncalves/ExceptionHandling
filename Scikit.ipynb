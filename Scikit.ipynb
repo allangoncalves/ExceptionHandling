{
 "cells": [
  {
   "cell_type": "code",
   "execution_count": 3,
   "metadata": {
    "collapsed": true
   },
   "outputs": [],
   "source": [
    "import pandas as pd\n",
    "import numpy as np\n",
    "import csv\n",
    "import matplotlib.pyplot as plt"
   ]
  },
  {
   "cell_type": "code",
   "execution_count": 17,
   "metadata": {
    "collapsed": true
   },
   "outputs": [],
   "source": [
    "url1 = 'scikit/scikit-learn-0.16.0/Function.csv'\n",
    "url2 = 'scikit/scikit-learn-0.17.1-1/Function.csv'\n",
    "url3 = 'scikit/scikit-learn-0.18/Function.csv'\n",
    "url4 = 'scikit/scikit-learn-0.18.2/Function.csv'\n",
    "url5 = 'scikit/scikit-learn-0.19.0/Function.csv'\n",
    "url6 = 'scikit/scikit-learn-0.19.1/Function.csv'"
   ]
  },
  {
   "cell_type": "code",
   "execution_count": 18,
   "metadata": {},
   "outputs": [],
   "source": [
    "df1 = pd.read_csv(url1, sep=';')\n",
    "df2 = pd.read_csv(url2, sep=';')\n",
    "df3 = pd.read_csv(url3, sep=';')\n",
    "df4 = pd.read_csv(url4, sep=';')\n",
    "df5 = pd.read_csv(url5, sep=';')\n",
    "df6 = pd.read_csv(url6, sep=';')"
   ]
  },
  {
   "cell_type": "code",
   "execution_count": 19,
   "metadata": {},
   "outputs": [
    {
     "data": {
      "text/plain": [
       "Index([u'name', u'id', u'raise', u're-raise', u'try', u'handlers', u'size'], dtype='object')"
      ]
     },
     "execution_count": 19,
     "metadata": {},
     "output_type": "execute_result"
    }
   ],
   "source": [
    "df1.columns"
   ]
  },
  {
   "cell_type": "code",
   "execution_count": 20,
   "metadata": {
    "scrolled": true
   },
   "outputs": [
    {
     "data": {
      "text/html": [
       "<div>\n",
       "<style>\n",
       "    .dataframe thead tr:only-child th {\n",
       "        text-align: right;\n",
       "    }\n",
       "\n",
       "    .dataframe thead th {\n",
       "        text-align: left;\n",
       "    }\n",
       "\n",
       "    .dataframe tbody tr th {\n",
       "        vertical-align: top;\n",
       "    }\n",
       "</style>\n",
       "<table border=\"1\" class=\"dataframe\">\n",
       "  <thead>\n",
       "    <tr style=\"text-align: right;\">\n",
       "      <th></th>\n",
       "      <th>Version</th>\n",
       "    </tr>\n",
       "  </thead>\n",
       "  <tbody>\n",
       "    <tr>\n",
       "      <th>0</th>\n",
       "      <td>0.16.0</td>\n",
       "    </tr>\n",
       "    <tr>\n",
       "      <th>1</th>\n",
       "      <td>0.17.1-1</td>\n",
       "    </tr>\n",
       "    <tr>\n",
       "      <th>2</th>\n",
       "      <td>0.18</td>\n",
       "    </tr>\n",
       "    <tr>\n",
       "      <th>3</th>\n",
       "      <td>0.18.2</td>\n",
       "    </tr>\n",
       "    <tr>\n",
       "      <th>4</th>\n",
       "      <td>0.19.0</td>\n",
       "    </tr>\n",
       "    <tr>\n",
       "      <th>5</th>\n",
       "      <td>0.19.1</td>\n",
       "    </tr>\n",
       "  </tbody>\n",
       "</table>\n",
       "</div>"
      ],
      "text/plain": [
       "    Version\n",
       "0    0.16.0\n",
       "1  0.17.1-1\n",
       "2      0.18\n",
       "3    0.18.2\n",
       "4    0.19.0\n",
       "5    0.19.1"
      ]
     },
     "execution_count": 20,
     "metadata": {},
     "output_type": "execute_result"
    }
   ],
   "source": [
    "df_principal = pd.DataFrame()\n",
    "df_principal['Version'] = ['0.16.0','0.17.1-1','0.18', '0.18.2', '0.19.0', '0.19.1']\n",
    "df_principal"
   ]
  },
  {
   "cell_type": "code",
   "execution_count": 21,
   "metadata": {
    "scrolled": true
   },
   "outputs": [
    {
     "data": {
      "text/html": [
       "<div>\n",
       "<style>\n",
       "    .dataframe thead tr:only-child th {\n",
       "        text-align: right;\n",
       "    }\n",
       "\n",
       "    .dataframe thead th {\n",
       "        text-align: left;\n",
       "    }\n",
       "\n",
       "    .dataframe tbody tr th {\n",
       "        vertical-align: top;\n",
       "    }\n",
       "</style>\n",
       "<table border=\"1\" class=\"dataframe\">\n",
       "  <thead>\n",
       "    <tr style=\"text-align: right;\">\n",
       "      <th></th>\n",
       "      <th>Version</th>\n",
       "      <th>Raising Sites</th>\n",
       "    </tr>\n",
       "  </thead>\n",
       "  <tbody>\n",
       "    <tr>\n",
       "      <th>0</th>\n",
       "      <td>0.16.0</td>\n",
       "      <td>869</td>\n",
       "    </tr>\n",
       "    <tr>\n",
       "      <th>1</th>\n",
       "      <td>0.17.1-1</td>\n",
       "      <td>954</td>\n",
       "    </tr>\n",
       "    <tr>\n",
       "      <th>2</th>\n",
       "      <td>0.18</td>\n",
       "      <td>1137</td>\n",
       "    </tr>\n",
       "    <tr>\n",
       "      <th>3</th>\n",
       "      <td>0.18.2</td>\n",
       "      <td>1149</td>\n",
       "    </tr>\n",
       "    <tr>\n",
       "      <th>4</th>\n",
       "      <td>0.19.0</td>\n",
       "      <td>1115</td>\n",
       "    </tr>\n",
       "    <tr>\n",
       "      <th>5</th>\n",
       "      <td>0.19.1</td>\n",
       "      <td>1120</td>\n",
       "    </tr>\n",
       "  </tbody>\n",
       "</table>\n",
       "</div>"
      ],
      "text/plain": [
       "    Version  Raising Sites\n",
       "0    0.16.0            869\n",
       "1  0.17.1-1            954\n",
       "2      0.18           1137\n",
       "3    0.18.2           1149\n",
       "4    0.19.0           1115\n",
       "5    0.19.1           1120"
      ]
     },
     "execution_count": 21,
     "metadata": {},
     "output_type": "execute_result"
    }
   ],
   "source": [
    "df_principal['Raising Sites'] = [df1['raise'].sum(), df2['raise'].sum(), df3['raise'].sum(), df4['raise'].sum(), df5['raise'].sum(), df6['raise'].sum()]\n",
    "df_principal"
   ]
  },
  {
   "cell_type": "code",
   "execution_count": 22,
   "metadata": {
    "scrolled": true
   },
   "outputs": [
    {
     "data": {
      "text/html": [
       "<div>\n",
       "<style>\n",
       "    .dataframe thead tr:only-child th {\n",
       "        text-align: right;\n",
       "    }\n",
       "\n",
       "    .dataframe thead th {\n",
       "        text-align: left;\n",
       "    }\n",
       "\n",
       "    .dataframe tbody tr th {\n",
       "        vertical-align: top;\n",
       "    }\n",
       "</style>\n",
       "<table border=\"1\" class=\"dataframe\">\n",
       "  <thead>\n",
       "    <tr style=\"text-align: right;\">\n",
       "      <th></th>\n",
       "      <th>Version</th>\n",
       "      <th>Raising Sites</th>\n",
       "      <th>Handling Sites</th>\n",
       "    </tr>\n",
       "  </thead>\n",
       "  <tbody>\n",
       "    <tr>\n",
       "      <th>0</th>\n",
       "      <td>0.16.0</td>\n",
       "      <td>869</td>\n",
       "      <td>196</td>\n",
       "    </tr>\n",
       "    <tr>\n",
       "      <th>1</th>\n",
       "      <td>0.17.1-1</td>\n",
       "      <td>954</td>\n",
       "      <td>232</td>\n",
       "    </tr>\n",
       "    <tr>\n",
       "      <th>2</th>\n",
       "      <td>0.18</td>\n",
       "      <td>1137</td>\n",
       "      <td>252</td>\n",
       "    </tr>\n",
       "    <tr>\n",
       "      <th>3</th>\n",
       "      <td>0.18.2</td>\n",
       "      <td>1149</td>\n",
       "      <td>249</td>\n",
       "    </tr>\n",
       "    <tr>\n",
       "      <th>4</th>\n",
       "      <td>0.19.0</td>\n",
       "      <td>1115</td>\n",
       "      <td>254</td>\n",
       "    </tr>\n",
       "    <tr>\n",
       "      <th>5</th>\n",
       "      <td>0.19.1</td>\n",
       "      <td>1120</td>\n",
       "      <td>255</td>\n",
       "    </tr>\n",
       "  </tbody>\n",
       "</table>\n",
       "</div>"
      ],
      "text/plain": [
       "    Version  Raising Sites  Handling Sites\n",
       "0    0.16.0            869             196\n",
       "1  0.17.1-1            954             232\n",
       "2      0.18           1137             252\n",
       "3    0.18.2           1149             249\n",
       "4    0.19.0           1115             254\n",
       "5    0.19.1           1120             255"
      ]
     },
     "execution_count": 22,
     "metadata": {},
     "output_type": "execute_result"
    }
   ],
   "source": [
    "df_principal['Handling Sites'] = [df1['handlers'].sum(), df2['handlers'].sum(), df3['handlers'].sum(), df4['handlers'].sum(), df5['handlers'].sum(), df6['handlers'].sum()]\n",
    "df_principal"
   ]
  },
  {
   "cell_type": "code",
   "execution_count": 23,
   "metadata": {
    "scrolled": true
   },
   "outputs": [
    {
     "data": {
      "text/html": [
       "<div>\n",
       "<style>\n",
       "    .dataframe thead tr:only-child th {\n",
       "        text-align: right;\n",
       "    }\n",
       "\n",
       "    .dataframe thead th {\n",
       "        text-align: left;\n",
       "    }\n",
       "\n",
       "    .dataframe tbody tr th {\n",
       "        vertical-align: top;\n",
       "    }\n",
       "</style>\n",
       "<table border=\"1\" class=\"dataframe\">\n",
       "  <thead>\n",
       "    <tr style=\"text-align: right;\">\n",
       "      <th></th>\n",
       "      <th>Version</th>\n",
       "      <th>Raising Sites</th>\n",
       "      <th>Handling Sites</th>\n",
       "      <th>Re-Raise</th>\n",
       "    </tr>\n",
       "  </thead>\n",
       "  <tbody>\n",
       "    <tr>\n",
       "      <th>0</th>\n",
       "      <td>0.16.0</td>\n",
       "      <td>869</td>\n",
       "      <td>196</td>\n",
       "      <td>68</td>\n",
       "    </tr>\n",
       "    <tr>\n",
       "      <th>1</th>\n",
       "      <td>0.17.1-1</td>\n",
       "      <td>954</td>\n",
       "      <td>232</td>\n",
       "      <td>76</td>\n",
       "    </tr>\n",
       "    <tr>\n",
       "      <th>2</th>\n",
       "      <td>0.18</td>\n",
       "      <td>1137</td>\n",
       "      <td>252</td>\n",
       "      <td>88</td>\n",
       "    </tr>\n",
       "    <tr>\n",
       "      <th>3</th>\n",
       "      <td>0.18.2</td>\n",
       "      <td>1149</td>\n",
       "      <td>249</td>\n",
       "      <td>87</td>\n",
       "    </tr>\n",
       "    <tr>\n",
       "      <th>4</th>\n",
       "      <td>0.19.0</td>\n",
       "      <td>1115</td>\n",
       "      <td>254</td>\n",
       "      <td>87</td>\n",
       "    </tr>\n",
       "    <tr>\n",
       "      <th>5</th>\n",
       "      <td>0.19.1</td>\n",
       "      <td>1120</td>\n",
       "      <td>255</td>\n",
       "      <td>87</td>\n",
       "    </tr>\n",
       "  </tbody>\n",
       "</table>\n",
       "</div>"
      ],
      "text/plain": [
       "    Version  Raising Sites  Handling Sites  Re-Raise\n",
       "0    0.16.0            869             196        68\n",
       "1  0.17.1-1            954             232        76\n",
       "2      0.18           1137             252        88\n",
       "3    0.18.2           1149             249        87\n",
       "4    0.19.0           1115             254        87\n",
       "5    0.19.1           1120             255        87"
      ]
     },
     "execution_count": 23,
     "metadata": {},
     "output_type": "execute_result"
    }
   ],
   "source": [
    "df_principal['Re-Raise'] = [df1['re-raise'].sum(), df2['re-raise'].sum(), df3['re-raise'].sum(), df4['re-raise'].sum(), df5['re-raise'].sum(), df6['re-raise'].sum()]\n",
    "df_principal"
   ]
  },
  {
   "cell_type": "code",
   "execution_count": 24,
   "metadata": {
    "scrolled": true
   },
   "outputs": [
    {
     "data": {
      "text/html": [
       "<div>\n",
       "<style>\n",
       "    .dataframe thead tr:only-child th {\n",
       "        text-align: right;\n",
       "    }\n",
       "\n",
       "    .dataframe thead th {\n",
       "        text-align: left;\n",
       "    }\n",
       "\n",
       "    .dataframe tbody tr th {\n",
       "        vertical-align: top;\n",
       "    }\n",
       "</style>\n",
       "<table border=\"1\" class=\"dataframe\">\n",
       "  <thead>\n",
       "    <tr style=\"text-align: right;\">\n",
       "      <th></th>\n",
       "      <th>Version</th>\n",
       "      <th>Raising Sites</th>\n",
       "      <th>Handling Sites</th>\n",
       "      <th>Re-Raise</th>\n",
       "      <th>Try Blocks</th>\n",
       "    </tr>\n",
       "  </thead>\n",
       "  <tbody>\n",
       "    <tr>\n",
       "      <th>0</th>\n",
       "      <td>0.16.0</td>\n",
       "      <td>869</td>\n",
       "      <td>196</td>\n",
       "      <td>68</td>\n",
       "      <td>180</td>\n",
       "    </tr>\n",
       "    <tr>\n",
       "      <th>1</th>\n",
       "      <td>0.17.1-1</td>\n",
       "      <td>954</td>\n",
       "      <td>232</td>\n",
       "      <td>76</td>\n",
       "      <td>217</td>\n",
       "    </tr>\n",
       "    <tr>\n",
       "      <th>2</th>\n",
       "      <td>0.18</td>\n",
       "      <td>1137</td>\n",
       "      <td>252</td>\n",
       "      <td>88</td>\n",
       "      <td>237</td>\n",
       "    </tr>\n",
       "    <tr>\n",
       "      <th>3</th>\n",
       "      <td>0.18.2</td>\n",
       "      <td>1149</td>\n",
       "      <td>249</td>\n",
       "      <td>87</td>\n",
       "      <td>234</td>\n",
       "    </tr>\n",
       "    <tr>\n",
       "      <th>4</th>\n",
       "      <td>0.19.0</td>\n",
       "      <td>1115</td>\n",
       "      <td>254</td>\n",
       "      <td>87</td>\n",
       "      <td>239</td>\n",
       "    </tr>\n",
       "    <tr>\n",
       "      <th>5</th>\n",
       "      <td>0.19.1</td>\n",
       "      <td>1120</td>\n",
       "      <td>255</td>\n",
       "      <td>87</td>\n",
       "      <td>240</td>\n",
       "    </tr>\n",
       "  </tbody>\n",
       "</table>\n",
       "</div>"
      ],
      "text/plain": [
       "    Version  Raising Sites  Handling Sites  Re-Raise  Try Blocks\n",
       "0    0.16.0            869             196        68         180\n",
       "1  0.17.1-1            954             232        76         217\n",
       "2      0.18           1137             252        88         237\n",
       "3    0.18.2           1149             249        87         234\n",
       "4    0.19.0           1115             254        87         239\n",
       "5    0.19.1           1120             255        87         240"
      ]
     },
     "execution_count": 24,
     "metadata": {},
     "output_type": "execute_result"
    }
   ],
   "source": [
    "df_principal['Try Blocks'] = [df1['try'].sum(), df2['try'].sum(), df3['try'].sum(), df4['try'].sum(), df5['try'].sum(), df6['try'].sum()]\n",
    "df_principal"
   ]
  },
  {
   "cell_type": "code",
   "execution_count": 25,
   "metadata": {
    "scrolled": true
   },
   "outputs": [
    {
     "data": {
      "text/html": [
       "<div>\n",
       "<style>\n",
       "    .dataframe thead tr:only-child th {\n",
       "        text-align: right;\n",
       "    }\n",
       "\n",
       "    .dataframe thead th {\n",
       "        text-align: left;\n",
       "    }\n",
       "\n",
       "    .dataframe tbody tr th {\n",
       "        vertical-align: top;\n",
       "    }\n",
       "</style>\n",
       "<table border=\"1\" class=\"dataframe\">\n",
       "  <thead>\n",
       "    <tr style=\"text-align: right;\">\n",
       "      <th></th>\n",
       "      <th>Version</th>\n",
       "      <th>Raising Sites</th>\n",
       "      <th>Handling Sites</th>\n",
       "      <th>Re-Raise</th>\n",
       "      <th>Try Blocks</th>\n",
       "      <th>Average Size</th>\n",
       "    </tr>\n",
       "  </thead>\n",
       "  <tbody>\n",
       "    <tr>\n",
       "      <th>0</th>\n",
       "      <td>0.16.0</td>\n",
       "      <td>869</td>\n",
       "      <td>196</td>\n",
       "      <td>68</td>\n",
       "      <td>180</td>\n",
       "      <td>8.396324</td>\n",
       "    </tr>\n",
       "    <tr>\n",
       "      <th>1</th>\n",
       "      <td>0.17.1-1</td>\n",
       "      <td>954</td>\n",
       "      <td>232</td>\n",
       "      <td>76</td>\n",
       "      <td>217</td>\n",
       "      <td>8.489282</td>\n",
       "    </tr>\n",
       "    <tr>\n",
       "      <th>2</th>\n",
       "      <td>0.18</td>\n",
       "      <td>1137</td>\n",
       "      <td>252</td>\n",
       "      <td>88</td>\n",
       "      <td>237</td>\n",
       "      <td>8.095328</td>\n",
       "    </tr>\n",
       "    <tr>\n",
       "      <th>3</th>\n",
       "      <td>0.18.2</td>\n",
       "      <td>1149</td>\n",
       "      <td>249</td>\n",
       "      <td>87</td>\n",
       "      <td>234</td>\n",
       "      <td>8.113793</td>\n",
       "    </tr>\n",
       "    <tr>\n",
       "      <th>4</th>\n",
       "      <td>0.19.0</td>\n",
       "      <td>1115</td>\n",
       "      <td>254</td>\n",
       "      <td>87</td>\n",
       "      <td>239</td>\n",
       "      <td>8.133375</td>\n",
       "    </tr>\n",
       "    <tr>\n",
       "      <th>5</th>\n",
       "      <td>0.19.1</td>\n",
       "      <td>1120</td>\n",
       "      <td>255</td>\n",
       "      <td>87</td>\n",
       "      <td>240</td>\n",
       "      <td>8.125541</td>\n",
       "    </tr>\n",
       "  </tbody>\n",
       "</table>\n",
       "</div>"
      ],
      "text/plain": [
       "    Version  Raising Sites  Handling Sites  Re-Raise  Try Blocks  Average Size\n",
       "0    0.16.0            869             196        68         180      8.396324\n",
       "1  0.17.1-1            954             232        76         217      8.489282\n",
       "2      0.18           1137             252        88         237      8.095328\n",
       "3    0.18.2           1149             249        87         234      8.113793\n",
       "4    0.19.0           1115             254        87         239      8.133375\n",
       "5    0.19.1           1120             255        87         240      8.125541"
      ]
     },
     "execution_count": 25,
     "metadata": {},
     "output_type": "execute_result"
    }
   ],
   "source": [
    "df_principal['Average Size'] = [df1['size'].mean(), df2['size'].mean(), df3['size'].mean(), df4['size'].mean(), df5['size'].mean(), df6['size'].mean()]\n",
    "df_principal"
   ]
  },
  {
   "cell_type": "code",
   "execution_count": 26,
   "metadata": {
    "scrolled": true
   },
   "outputs": [
    {
     "data": {
      "text/html": [
       "<div>\n",
       "<style>\n",
       "    .dataframe thead tr:only-child th {\n",
       "        text-align: right;\n",
       "    }\n",
       "\n",
       "    .dataframe thead th {\n",
       "        text-align: left;\n",
       "    }\n",
       "\n",
       "    .dataframe tbody tr th {\n",
       "        vertical-align: top;\n",
       "    }\n",
       "</style>\n",
       "<table border=\"1\" class=\"dataframe\">\n",
       "  <thead>\n",
       "    <tr style=\"text-align: right;\">\n",
       "      <th></th>\n",
       "      <th>Version</th>\n",
       "      <th>Raising Sites</th>\n",
       "      <th>Handling Sites</th>\n",
       "      <th>Re-Raise</th>\n",
       "      <th>Try Blocks</th>\n",
       "      <th>Average Size</th>\n",
       "      <th>Methods</th>\n",
       "    </tr>\n",
       "  </thead>\n",
       "  <tbody>\n",
       "    <tr>\n",
       "      <th>0</th>\n",
       "      <td>0.16.0</td>\n",
       "      <td>869</td>\n",
       "      <td>196</td>\n",
       "      <td>68</td>\n",
       "      <td>180</td>\n",
       "      <td>8.396324</td>\n",
       "      <td>2503</td>\n",
       "    </tr>\n",
       "    <tr>\n",
       "      <th>1</th>\n",
       "      <td>0.17.1-1</td>\n",
       "      <td>954</td>\n",
       "      <td>232</td>\n",
       "      <td>76</td>\n",
       "      <td>217</td>\n",
       "      <td>8.489282</td>\n",
       "      <td>2659</td>\n",
       "    </tr>\n",
       "    <tr>\n",
       "      <th>2</th>\n",
       "      <td>0.18</td>\n",
       "      <td>1137</td>\n",
       "      <td>252</td>\n",
       "      <td>88</td>\n",
       "      <td>237</td>\n",
       "      <td>8.095328</td>\n",
       "      <td>3189</td>\n",
       "    </tr>\n",
       "    <tr>\n",
       "      <th>3</th>\n",
       "      <td>0.18.2</td>\n",
       "      <td>1149</td>\n",
       "      <td>249</td>\n",
       "      <td>87</td>\n",
       "      <td>234</td>\n",
       "      <td>8.113793</td>\n",
       "      <td>3190</td>\n",
       "    </tr>\n",
       "    <tr>\n",
       "      <th>4</th>\n",
       "      <td>0.19.0</td>\n",
       "      <td>1115</td>\n",
       "      <td>254</td>\n",
       "      <td>87</td>\n",
       "      <td>239</td>\n",
       "      <td>8.133375</td>\n",
       "      <td>3224</td>\n",
       "    </tr>\n",
       "    <tr>\n",
       "      <th>5</th>\n",
       "      <td>0.19.1</td>\n",
       "      <td>1120</td>\n",
       "      <td>255</td>\n",
       "      <td>87</td>\n",
       "      <td>240</td>\n",
       "      <td>8.125541</td>\n",
       "      <td>3234</td>\n",
       "    </tr>\n",
       "  </tbody>\n",
       "</table>\n",
       "</div>"
      ],
      "text/plain": [
       "    Version  Raising Sites  Handling Sites  Re-Raise  Try Blocks  \\\n",
       "0    0.16.0            869             196        68         180   \n",
       "1  0.17.1-1            954             232        76         217   \n",
       "2      0.18           1137             252        88         237   \n",
       "3    0.18.2           1149             249        87         234   \n",
       "4    0.19.0           1115             254        87         239   \n",
       "5    0.19.1           1120             255        87         240   \n",
       "\n",
       "   Average Size  Methods  \n",
       "0      8.396324     2503  \n",
       "1      8.489282     2659  \n",
       "2      8.095328     3189  \n",
       "3      8.113793     3190  \n",
       "4      8.133375     3224  \n",
       "5      8.125541     3234  "
      ]
     },
     "execution_count": 26,
     "metadata": {},
     "output_type": "execute_result"
    }
   ],
   "source": [
    "df_principal['Methods'] = [df1['id'].count(), df2['id'].count(), df3['id'].count(), df4['id'].count(), df5['id'].count(), df6['id'].count()]\n",
    "df_principal"
   ]
  },
  {
   "cell_type": "code",
   "execution_count": 27,
   "metadata": {
    "scrolled": true
   },
   "outputs": [
    {
     "data": {
      "text/plain": [
       "<matplotlib.axes._subplots.AxesSubplot at 0x7f533d76fe50>"
      ]
     },
     "execution_count": 27,
     "metadata": {},
     "output_type": "execute_result"
    }
   ],
   "source": [
    "df_principal.plot(x='Version', kind='line', marker='o')"
   ]
  },
  {
   "cell_type": "code",
   "execution_count": 28,
   "metadata": {},
   "outputs": [
    {
     "data": {
      "image/png": "[encoded data removed]",
      "text/plain": [
       "<matplotlib.figure.Figure at 0x7f533d7dc1d0>"
      ]
     },
     "metadata": {},
     "output_type": "display_data"
    }
   ],
   "source": [
    "plt.show()"
   ]
  }
 ],
 "metadata": {
  "kernelspec": {
   "display_name": "Python 2",
   "language": "python",
   "name": "python2"
  },
  "language_info": {
   "codemirror_mode": {
    "name": "ipython",
    "version": 2
   },
   "file_extension": ".py",
   "mimetype": "text/x-python",
   "name": "python",
   "nbconvert_exporter": "python",
   "pygments_lexer": "ipython2",
   "version": "2.7.14"
  }
 },
 "nbformat": 4,
 "nbformat_minor": 2
}
