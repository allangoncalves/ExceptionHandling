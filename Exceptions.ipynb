{
 "cells": [
  {
   "cell_type": "code",
   "execution_count": 1,
   "metadata": {
    "collapsed": true
   },
   "outputs": [],
   "source": [
    "import pandas as pd\n",
    "import numpy as np\n",
    "import csv\n",
    "import matplotlib.pyplot as plt"
   ]
  },
  {
   "cell_type": "code",
   "execution_count": 2,
   "metadata": {
    "collapsed": true
   },
   "outputs": [],
   "source": [
    "url1 = 'Pandas/pandas-0.19.2/Exception.csv'\n",
    "url2 = 'Pandas/pandas-0.19.2/Exception.csv'\n",
    "url3 = 'Pandas/pandas-0.19.2/Exception.csv'\n",
    "url4 = 'Pandas/pandas-0.19.2/Exception.csv'\n",
    "url5 = 'Pandas/pandas-0.19.2/Exception.csv'\n",
    "url6 = 'Pandas/pandas-0.19.2/Exception.csv'"
   ]
  },
  {
   "cell_type": "code",
   "execution_count": 3,
   "metadata": {
    "collapsed": true
   },
   "outputs": [],
   "source": [
    "df1 = pd.read_csv(url1, sep=';')\n",
    "df2 = pd.read_csv(url2, sep=';')\n",
    "df3 = pd.read_csv(url3, sep=';')\n",
    "df4 = pd.read_csv(url4, sep=';')\n",
    "df5 = pd.read_csv(url5, sep=';')\n",
    "df6 = pd.read_csv(url6, sep=';')"
   ]
  },
  {
   "cell_type": "code",
   "execution_count": 4,
   "metadata": {},
   "outputs": [
    {
     "data": {
      "text/plain": [
       "Index([u'name_func', u'id_handler', u'name', u'user/sys', u'tuple'], dtype='object')"
      ]
     },
     "execution_count": 4,
     "metadata": {},
     "output_type": "execute_result"
    }
   ],
   "source": [
    "df1.columns"
   ]
  },
  {
   "cell_type": "code",
   "execution_count": 5,
   "metadata": {
    "collapsed": true
   },
   "outputs": [],
   "source": [
    "df_principal = pd.DataFrame()"
   ]
  },
  {
   "cell_type": "code",
   "execution_count": 6,
   "metadata": {
    "scrolled": true
   },
   "outputs": [
    {
     "data": {
      "text/html": [
       "<div>\n",
       "<style>\n",
       "    .dataframe thead tr:only-child th {\n",
       "        text-align: right;\n",
       "    }\n",
       "\n",
       "    .dataframe thead th {\n",
       "        text-align: left;\n",
       "    }\n",
       "\n",
       "    .dataframe tbody tr th {\n",
       "        vertical-align: top;\n",
       "    }\n",
       "</style>\n",
       "<table border=\"1\" class=\"dataframe\">\n",
       "  <thead>\n",
       "    <tr style=\"text-align: right;\">\n",
       "      <th></th>\n",
       "      <th>Version</th>\n",
       "    </tr>\n",
       "  </thead>\n",
       "  <tbody>\n",
       "    <tr>\n",
       "      <th>0</th>\n",
       "      <td>0.19.2</td>\n",
       "    </tr>\n",
       "    <tr>\n",
       "      <th>1</th>\n",
       "      <td>0.20.0</td>\n",
       "    </tr>\n",
       "    <tr>\n",
       "      <th>2</th>\n",
       "      <td>0.20.1</td>\n",
       "    </tr>\n",
       "    <tr>\n",
       "      <th>3</th>\n",
       "      <td>0.20.2</td>\n",
       "    </tr>\n",
       "    <tr>\n",
       "      <th>4</th>\n",
       "      <td>0.20.3</td>\n",
       "    </tr>\n",
       "    <tr>\n",
       "      <th>5</th>\n",
       "      <td>0.21.0</td>\n",
       "    </tr>\n",
       "  </tbody>\n",
       "</table>\n",
       "</div>"
      ],
      "text/plain": [
       "  Version\n",
       "0  0.19.2\n",
       "1  0.20.0\n",
       "2  0.20.1\n",
       "3  0.20.2\n",
       "4  0.20.3\n",
       "5  0.21.0"
      ]
     },
     "execution_count": 6,
     "metadata": {},
     "output_type": "execute_result"
    }
   ],
   "source": [
    "df_principal['Version'] = ['0.19.2', '0.20.0', '0.20.1', '0.20.2', '0.20.3', '0.21.0']\n",
    "df_principal"
   ]
  },
  {
   "cell_type": "code",
   "execution_count": 7,
   "metadata": {
    "scrolled": true
   },
   "outputs": [
    {
     "data": {
      "text/html": [
       "<div>\n",
       "<style>\n",
       "    .dataframe thead tr:only-child th {\n",
       "        text-align: right;\n",
       "    }\n",
       "\n",
       "    .dataframe thead th {\n",
       "        text-align: left;\n",
       "    }\n",
       "\n",
       "    .dataframe tbody tr th {\n",
       "        vertical-align: top;\n",
       "    }\n",
       "</style>\n",
       "<table border=\"1\" class=\"dataframe\">\n",
       "  <thead>\n",
       "    <tr style=\"text-align: right;\">\n",
       "      <th></th>\n",
       "      <th>Version</th>\n",
       "      <th>Unique Exceptions</th>\n",
       "    </tr>\n",
       "  </thead>\n",
       "  <tbody>\n",
       "    <tr>\n",
       "      <th>0</th>\n",
       "      <td>0.19.2</td>\n",
       "      <td>43</td>\n",
       "    </tr>\n",
       "    <tr>\n",
       "      <th>1</th>\n",
       "      <td>0.20.0</td>\n",
       "      <td>43</td>\n",
       "    </tr>\n",
       "    <tr>\n",
       "      <th>2</th>\n",
       "      <td>0.20.1</td>\n",
       "      <td>43</td>\n",
       "    </tr>\n",
       "    <tr>\n",
       "      <th>3</th>\n",
       "      <td>0.20.2</td>\n",
       "      <td>43</td>\n",
       "    </tr>\n",
       "    <tr>\n",
       "      <th>4</th>\n",
       "      <td>0.20.3</td>\n",
       "      <td>43</td>\n",
       "    </tr>\n",
       "    <tr>\n",
       "      <th>5</th>\n",
       "      <td>0.21.0</td>\n",
       "      <td>43</td>\n",
       "    </tr>\n",
       "  </tbody>\n",
       "</table>\n",
       "</div>"
      ],
      "text/plain": [
       "  Version  Unique Exceptions\n",
       "0  0.19.2                 43\n",
       "1  0.20.0                 43\n",
       "2  0.20.1                 43\n",
       "3  0.20.2                 43\n",
       "4  0.20.3                 43\n",
       "5  0.21.0                 43"
      ]
     },
     "execution_count": 7,
     "metadata": {},
     "output_type": "execute_result"
    }
   ],
   "source": [
    "df_principal['Unique Exceptions'] = [len(df1['name'].value_counts()), len(df2['name'].value_counts()), len(df3['name'].value_counts()), len(df4['name'].value_counts()), len(df5['name'].value_counts()), len(df6['name'].value_counts())]\n",
    "df_principal"
   ]
  },
  {
   "cell_type": "code",
   "execution_count": 18,
   "metadata": {
    "scrolled": true
   },
   "outputs": [
    {
     "data": {
      "text/html": [
       "<div>\n",
       "<style>\n",
       "    .dataframe thead tr:only-child th {\n",
       "        text-align: right;\n",
       "    }\n",
       "\n",
       "    .dataframe thead th {\n",
       "        text-align: left;\n",
       "    }\n",
       "\n",
       "    .dataframe tbody tr th {\n",
       "        vertical-align: top;\n",
       "    }\n",
       "</style>\n",
       "<table border=\"1\" class=\"dataframe\">\n",
       "  <thead>\n",
       "    <tr style=\"text-align: right;\">\n",
       "      <th></th>\n",
       "      <th>Version</th>\n",
       "      <th>Unique Exceptions</th>\n",
       "      <th>Defined by the SYS</th>\n",
       "    </tr>\n",
       "  </thead>\n",
       "  <tbody>\n",
       "    <tr>\n",
       "      <th>0</th>\n",
       "      <td>0.19.2</td>\n",
       "      <td>43</td>\n",
       "      <td>21</td>\n",
       "    </tr>\n",
       "    <tr>\n",
       "      <th>1</th>\n",
       "      <td>0.20.0</td>\n",
       "      <td>43</td>\n",
       "      <td>21</td>\n",
       "    </tr>\n",
       "    <tr>\n",
       "      <th>2</th>\n",
       "      <td>0.20.1</td>\n",
       "      <td>43</td>\n",
       "      <td>21</td>\n",
       "    </tr>\n",
       "    <tr>\n",
       "      <th>3</th>\n",
       "      <td>0.20.2</td>\n",
       "      <td>43</td>\n",
       "      <td>21</td>\n",
       "    </tr>\n",
       "    <tr>\n",
       "      <th>4</th>\n",
       "      <td>0.20.3</td>\n",
       "      <td>43</td>\n",
       "      <td>21</td>\n",
       "    </tr>\n",
       "    <tr>\n",
       "      <th>5</th>\n",
       "      <td>0.21.0</td>\n",
       "      <td>43</td>\n",
       "      <td>21</td>\n",
       "    </tr>\n",
       "  </tbody>\n",
       "</table>\n",
       "</div>"
      ],
      "text/plain": [
       "  Version  Unique Exceptions  Defined by the SYS\n",
       "0  0.19.2                 43                  21\n",
       "1  0.20.0                 43                  21\n",
       "2  0.20.1                 43                  21\n",
       "3  0.20.2                 43                  21\n",
       "4  0.20.3                 43                  21\n",
       "5  0.21.0                 43                  21"
      ]
     },
     "execution_count": 18,
     "metadata": {},
     "output_type": "execute_result"
    }
   ],
   "source": [
    "#len(df1[df1['user/sys'] == 'sys']['name'].value_counts())\n",
    "df_principal['Defined by the SYS'] = [len(df1[df1['user/sys'] == 'sys']['name'].value_counts()), len(df2[df2['user/sys'] == 'sys']['name'].value_counts()), len(df3[df3['user/sys'] == 'sys']['name'].value_counts()), len(df4[df4['user/sys'] == 'sys']['name'].value_counts()), len(df5[df5['user/sys'] == 'sys']['name'].value_counts()), len(df6[df6['user/sys'] == 'sys']['name'].value_counts())]\n",
    "df_principal"
   ]
  },
  {
   "cell_type": "code",
   "execution_count": 21,
   "metadata": {
    "scrolled": true
   },
   "outputs": [
    {
     "data": {
      "text/html": [
       "<div>\n",
       "<style>\n",
       "    .dataframe thead tr:only-child th {\n",
       "        text-align: right;\n",
       "    }\n",
       "\n",
       "    .dataframe thead th {\n",
       "        text-align: left;\n",
       "    }\n",
       "\n",
       "    .dataframe tbody tr th {\n",
       "        vertical-align: top;\n",
       "    }\n",
       "</style>\n",
       "<table border=\"1\" class=\"dataframe\">\n",
       "  <thead>\n",
       "    <tr style=\"text-align: right;\">\n",
       "      <th></th>\n",
       "      <th>Version</th>\n",
       "      <th>Unique Exceptions</th>\n",
       "      <th>Defined by the SYS</th>\n",
       "      <th>Defined by the USR</th>\n",
       "    </tr>\n",
       "  </thead>\n",
       "  <tbody>\n",
       "    <tr>\n",
       "      <th>0</th>\n",
       "      <td>0.19.2</td>\n",
       "      <td>43</td>\n",
       "      <td>21</td>\n",
       "      <td>35</td>\n",
       "    </tr>\n",
       "    <tr>\n",
       "      <th>1</th>\n",
       "      <td>0.20.0</td>\n",
       "      <td>43</td>\n",
       "      <td>21</td>\n",
       "      <td>35</td>\n",
       "    </tr>\n",
       "    <tr>\n",
       "      <th>2</th>\n",
       "      <td>0.20.1</td>\n",
       "      <td>43</td>\n",
       "      <td>21</td>\n",
       "      <td>35</td>\n",
       "    </tr>\n",
       "    <tr>\n",
       "      <th>3</th>\n",
       "      <td>0.20.2</td>\n",
       "      <td>43</td>\n",
       "      <td>21</td>\n",
       "      <td>35</td>\n",
       "    </tr>\n",
       "    <tr>\n",
       "      <th>4</th>\n",
       "      <td>0.20.3</td>\n",
       "      <td>43</td>\n",
       "      <td>21</td>\n",
       "      <td>35</td>\n",
       "    </tr>\n",
       "    <tr>\n",
       "      <th>5</th>\n",
       "      <td>0.21.0</td>\n",
       "      <td>43</td>\n",
       "      <td>21</td>\n",
       "      <td>35</td>\n",
       "    </tr>\n",
       "  </tbody>\n",
       "</table>\n",
       "</div>"
      ],
      "text/plain": [
       "  Version  Unique Exceptions  Defined by the SYS  Defined by the USR\n",
       "0  0.19.2                 43                  21                  35\n",
       "1  0.20.0                 43                  21                  35\n",
       "2  0.20.1                 43                  21                  35\n",
       "3  0.20.2                 43                  21                  35\n",
       "4  0.20.3                 43                  21                  35\n",
       "5  0.21.0                 43                  21                  35"
      ]
     },
     "execution_count": 21,
     "metadata": {},
     "output_type": "execute_result"
    }
   ],
   "source": [
    "df_principal['Defined by the USR'] = [len(df1[df1['user/sys'] == 'usr']['name'].value_counts()), len(df2[df2['user/sys'] == 'usr']['name'].value_counts()), len(df3[df3['user/sys'] == 'usr']['name'].value_counts()), len(df4[df4['user/sys'] == 'usr']['name'].value_counts()), len(df5[df5['user/sys'] == 'usr']['name'].value_counts()), len(df6[df6['user/sys'] == 'usr']['name'].value_counts())]\n",
    "df_principal"
   ]
  },
  {
   "cell_type": "code",
   "execution_count": 22,
   "metadata": {
    "collapsed": true
   },
   "outputs": [],
   "source": [
    "df_bar = pd.DataFrame()"
   ]
  },
  {
   "cell_type": "code",
   "execution_count": 61,
   "metadata": {},
   "outputs": [
    {
     "data": {
      "image/png": "[encoded data removed]",
      "text/plain": [
       "<matplotlib.figure.Figure at 0x7f3148ac0d90>"
      ]
     },
     "metadata": {},
     "output_type": "display_data"
    }
   ],
   "source": [
    "#df_bar['Version'] = ['0.19.2', '0.20.0', '0.20.1', '0.20.2', '0.20.3', '0.21.0']\n",
    "plt.bar(df1['name'].value_counts().index[:5], df1['name'].value_counts().values[:5])\n",
    "#df_bar['0.20.0'] = []\n",
    "#df_bar['0.20.1'] = []\n",
    "#df_bar['0.20.2'] = []\n",
    "#df_bar['0.20.3'] = []\n",
    "#df_bar['0.21.0'] = []\n",
    "plt.show()"
   ]
  },
  {
   "cell_type": "code",
   "execution_count": 47,
   "metadata": {},
   "outputs": [
    {
     "data": {
      "text/plain": [
       "['TypeError',\n",
       " 'ValueError',\n",
       " 'Exception',\n",
       " 'KeyError',\n",
       " 'AttributeError',\n",
       " 'ImportError',\n",
       " 'IndexError',\n",
       " 'StopIteration',\n",
       " 'NotImplementedError',\n",
       " 'EnvironmentError',\n",
       " 'NameError',\n",
       " 'NotThisMethod',\n",
       " 'HttpError',\n",
       " 'UnicodeDecodeError',\n",
       " 'UndefinedVariableError',\n",
       " 'AssertionError',\n",
       " 'SystemExit',\n",
       " 'SpecificationError',\n",
       " 'IOError',\n",
       " 'OutOfBoundsDatetime',\n",
       " 'InvalidIndexError',\n",
       " 'OSError',\n",
       " 'LookupError',\n",
       " 'UnicodeError',\n",
       " 'GroupByError',\n",
       " 'IncompatibleFrequency',\n",
       " 'EmptyDataError',\n",
       " 'ApplyTypeError',\n",
       " 'DataError',\n",
       " 'IndexingError',\n",
       " 'KeyboardInterrupt',\n",
       " 'NoOptionError',\n",
       " 'error_classes',\n",
       " 'AbstractMethodError',\n",
       " '_BadMove',\n",
       " 'UnicodeEncodeError',\n",
       " 'AccessTokenRefreshError',\n",
       " 'SettingWithCopyError',\n",
       " 'PlotError',\n",
       " 'AmbiguousTimeError',\n",
       " 'NoSectionError',\n",
       " 'SyntaxError',\n",
       " 'OverflowError']"
      ]
     },
     "execution_count": 47,
     "metadata": {},
     "output_type": "execute_result"
    }
   ],
   "source": [
    "df1['name'].value_counts().index.tolist()"
   ]
  }
 ],
 "metadata": {
  "kernelspec": {
   "display_name": "Python 2",
   "language": "python",
   "name": "python2"
  },
  "language_info": {
   "codemirror_mode": {
    "name": "ipython",
    "version": 2
   },
   "file_extension": ".py",
   "mimetype": "text/x-python",
   "name": "python",
   "nbconvert_exporter": "python",
   "pygments_lexer": "ipython2",
   "version": "2.7.14"
  }
 },
 "nbformat": 4,
 "nbformat_minor": 2
}
