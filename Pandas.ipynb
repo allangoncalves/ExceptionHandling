{
 "cells": [
  {
   "cell_type": "code",
   "execution_count": 1,
   "metadata": {},
   "outputs": [],
   "source": [
    "import pandas as pd\n",
    "import numpy as np\n",
    "import csv\n",
    "import matplotlib.pyplot as plt"
   ]
  },
  {
   "cell_type": "code",
   "execution_count": 2,
   "metadata": {
    "collapsed": true
   },
   "outputs": [],
   "source": [
    "url1 = 'Pandas/pandas-0.19.2/Function.csv'\n",
    "url2 = 'Pandas/pandas-0.20.0/Function.csv'\n",
    "url3 = 'Pandas/pandas-0.20.1/Function.csv'\n",
    "url4 = 'Pandas/pandas-0.20.2/Function.csv'\n",
    "url5 = 'Pandas/pandas-0.20.3/Function.csv'\n",
    "url6 = 'Pandas/pandas-0.21.0/Function.csv'"
   ]
  },
  {
   "cell_type": "code",
   "execution_count": 3,
   "metadata": {
    "collapsed": true
   },
   "outputs": [],
   "source": [
    "df1 = pd.read_csv(url1, sep=';')\n",
    "df2 = pd.read_csv(url2, sep=';')\n",
    "df3 = pd.read_csv(url3, sep=';')\n",
    "df4 = pd.read_csv(url4, sep=';')\n",
    "df5 = pd.read_csv(url5, sep=';')\n",
    "df6 = pd.read_csv(url6, sep=';')"
   ]
  },
  {
   "cell_type": "code",
   "execution_count": 4,
   "metadata": {},
   "outputs": [
    {
     "data": {
      "text/plain": [
       "Index([u'name', u'id', u'raise', u're-raise', u'try', u'handlers', u'size'], dtype='object')"
      ]
     },
     "execution_count": 4,
     "metadata": {},
     "output_type": "execute_result"
    }
   ],
   "source": [
    "df1.columns"
   ]
  },
  {
   "cell_type": "code",
   "execution_count": 5,
   "metadata": {
    "scrolled": true
   },
   "outputs": [
    {
     "data": {
      "text/html": [
       "<div>\n",
       "<style>\n",
       "    .dataframe thead tr:only-child th {\n",
       "        text-align: right;\n",
       "    }\n",
       "\n",
       "    .dataframe thead th {\n",
       "        text-align: left;\n",
       "    }\n",
       "\n",
       "    .dataframe tbody tr th {\n",
       "        vertical-align: top;\n",
       "    }\n",
       "</style>\n",
       "<table border=\"1\" class=\"dataframe\">\n",
       "  <thead>\n",
       "    <tr style=\"text-align: right;\">\n",
       "      <th></th>\n",
       "      <th>Version</th>\n",
       "    </tr>\n",
       "  </thead>\n",
       "  <tbody>\n",
       "    <tr>\n",
       "      <th>0</th>\n",
       "      <td>0.19.2</td>\n",
       "    </tr>\n",
       "    <tr>\n",
       "      <th>1</th>\n",
       "      <td>0.20.0</td>\n",
       "    </tr>\n",
       "    <tr>\n",
       "      <th>2</th>\n",
       "      <td>0.20.1</td>\n",
       "    </tr>\n",
       "    <tr>\n",
       "      <th>3</th>\n",
       "      <td>0.20.2</td>\n",
       "    </tr>\n",
       "    <tr>\n",
       "      <th>4</th>\n",
       "      <td>0.20.3</td>\n",
       "    </tr>\n",
       "    <tr>\n",
       "      <th>5</th>\n",
       "      <td>0.21.0</td>\n",
       "    </tr>\n",
       "  </tbody>\n",
       "</table>\n",
       "</div>"
      ],
      "text/plain": [
       "  Version\n",
       "0  0.19.2\n",
       "1  0.20.0\n",
       "2  0.20.1\n",
       "3  0.20.2\n",
       "4  0.20.3\n",
       "5  0.21.0"
      ]
     },
     "execution_count": 5,
     "metadata": {},
     "output_type": "execute_result"
    }
   ],
   "source": [
    "df_principal = pd.DataFrame()\n",
    "df_principal['Version'] = ['0.19.2', '0.20.0', '0.20.1', '0.20.2', '0.20.3', '0.21.0']\n",
    "df_principal"
   ]
  },
  {
   "cell_type": "code",
   "execution_count": 6,
   "metadata": {
    "scrolled": true
   },
   "outputs": [
    {
     "data": {
      "text/html": [
       "<div>\n",
       "<style>\n",
       "    .dataframe thead tr:only-child th {\n",
       "        text-align: right;\n",
       "    }\n",
       "\n",
       "    .dataframe thead th {\n",
       "        text-align: left;\n",
       "    }\n",
       "\n",
       "    .dataframe tbody tr th {\n",
       "        vertical-align: top;\n",
       "    }\n",
       "</style>\n",
       "<table border=\"1\" class=\"dataframe\">\n",
       "  <thead>\n",
       "    <tr style=\"text-align: right;\">\n",
       "      <th></th>\n",
       "      <th>Version</th>\n",
       "      <th>Raising Sites</th>\n",
       "    </tr>\n",
       "  </thead>\n",
       "  <tbody>\n",
       "    <tr>\n",
       "      <th>0</th>\n",
       "      <td>0.19.2</td>\n",
       "      <td>1547</td>\n",
       "    </tr>\n",
       "    <tr>\n",
       "      <th>1</th>\n",
       "      <td>0.20.0</td>\n",
       "      <td>1577</td>\n",
       "    </tr>\n",
       "    <tr>\n",
       "      <th>2</th>\n",
       "      <td>0.20.1</td>\n",
       "      <td>1577</td>\n",
       "    </tr>\n",
       "    <tr>\n",
       "      <th>3</th>\n",
       "      <td>0.20.2</td>\n",
       "      <td>1585</td>\n",
       "    </tr>\n",
       "    <tr>\n",
       "      <th>4</th>\n",
       "      <td>0.20.3</td>\n",
       "      <td>1587</td>\n",
       "    </tr>\n",
       "    <tr>\n",
       "      <th>5</th>\n",
       "      <td>0.21.0</td>\n",
       "      <td>1632</td>\n",
       "    </tr>\n",
       "  </tbody>\n",
       "</table>\n",
       "</div>"
      ],
      "text/plain": [
       "  Version  Raising Sites\n",
       "0  0.19.2           1547\n",
       "1  0.20.0           1577\n",
       "2  0.20.1           1577\n",
       "3  0.20.2           1585\n",
       "4  0.20.3           1587\n",
       "5  0.21.0           1632"
      ]
     },
     "execution_count": 6,
     "metadata": {},
     "output_type": "execute_result"
    }
   ],
   "source": [
    "df_principal['Raising Sites'] = [df1['raise'].sum(), df2['raise'].sum(), df3['raise'].sum(), df4['raise'].sum(), df5['raise'].sum(), df6['raise'].sum()]\n",
    "df_principal"
   ]
  },
  {
   "cell_type": "code",
   "execution_count": 7,
   "metadata": {
    "scrolled": true
   },
   "outputs": [
    {
     "data": {
      "text/html": [
       "<div>\n",
       "<style>\n",
       "    .dataframe thead tr:only-child th {\n",
       "        text-align: right;\n",
       "    }\n",
       "\n",
       "    .dataframe thead th {\n",
       "        text-align: left;\n",
       "    }\n",
       "\n",
       "    .dataframe tbody tr th {\n",
       "        vertical-align: top;\n",
       "    }\n",
       "</style>\n",
       "<table border=\"1\" class=\"dataframe\">\n",
       "  <thead>\n",
       "    <tr style=\"text-align: right;\">\n",
       "      <th></th>\n",
       "      <th>Version</th>\n",
       "      <th>Raising Sites</th>\n",
       "      <th>Handling Sites</th>\n",
       "    </tr>\n",
       "  </thead>\n",
       "  <tbody>\n",
       "    <tr>\n",
       "      <th>0</th>\n",
       "      <td>0.19.2</td>\n",
       "      <td>1547</td>\n",
       "      <td>911</td>\n",
       "    </tr>\n",
       "    <tr>\n",
       "      <th>1</th>\n",
       "      <td>0.20.0</td>\n",
       "      <td>1577</td>\n",
       "      <td>851</td>\n",
       "    </tr>\n",
       "    <tr>\n",
       "      <th>2</th>\n",
       "      <td>0.20.1</td>\n",
       "      <td>1577</td>\n",
       "      <td>851</td>\n",
       "    </tr>\n",
       "    <tr>\n",
       "      <th>3</th>\n",
       "      <td>0.20.2</td>\n",
       "      <td>1585</td>\n",
       "      <td>851</td>\n",
       "    </tr>\n",
       "    <tr>\n",
       "      <th>4</th>\n",
       "      <td>0.20.3</td>\n",
       "      <td>1587</td>\n",
       "      <td>852</td>\n",
       "    </tr>\n",
       "    <tr>\n",
       "      <th>5</th>\n",
       "      <td>0.21.0</td>\n",
       "      <td>1632</td>\n",
       "      <td>829</td>\n",
       "    </tr>\n",
       "  </tbody>\n",
       "</table>\n",
       "</div>"
      ],
      "text/plain": [
       "  Version  Raising Sites  Handling Sites\n",
       "0  0.19.2           1547             911\n",
       "1  0.20.0           1577             851\n",
       "2  0.20.1           1577             851\n",
       "3  0.20.2           1585             851\n",
       "4  0.20.3           1587             852\n",
       "5  0.21.0           1632             829"
      ]
     },
     "execution_count": 7,
     "metadata": {},
     "output_type": "execute_result"
    }
   ],
   "source": [
    "df_principal['Handling Sites'] = [df1['handlers'].sum(), df2['handlers'].sum(), df3['handlers'].sum(), df4['handlers'].sum(), df5['handlers'].sum(), df6['handlers'].sum()]\n",
    "df_principal"
   ]
  },
  {
   "cell_type": "code",
   "execution_count": 8,
   "metadata": {
    "scrolled": true
   },
   "outputs": [
    {
     "data": {
      "text/html": [
       "<div>\n",
       "<style>\n",
       "    .dataframe thead tr:only-child th {\n",
       "        text-align: right;\n",
       "    }\n",
       "\n",
       "    .dataframe thead th {\n",
       "        text-align: left;\n",
       "    }\n",
       "\n",
       "    .dataframe tbody tr th {\n",
       "        vertical-align: top;\n",
       "    }\n",
       "</style>\n",
       "<table border=\"1\" class=\"dataframe\">\n",
       "  <thead>\n",
       "    <tr style=\"text-align: right;\">\n",
       "      <th></th>\n",
       "      <th>Version</th>\n",
       "      <th>Raising Sites</th>\n",
       "      <th>Handling Sites</th>\n",
       "      <th>Re-Raise</th>\n",
       "    </tr>\n",
       "  </thead>\n",
       "  <tbody>\n",
       "    <tr>\n",
       "      <th>0</th>\n",
       "      <td>0.19.2</td>\n",
       "      <td>1547</td>\n",
       "      <td>911</td>\n",
       "      <td>237</td>\n",
       "    </tr>\n",
       "    <tr>\n",
       "      <th>1</th>\n",
       "      <td>0.20.0</td>\n",
       "      <td>1577</td>\n",
       "      <td>851</td>\n",
       "      <td>230</td>\n",
       "    </tr>\n",
       "    <tr>\n",
       "      <th>2</th>\n",
       "      <td>0.20.1</td>\n",
       "      <td>1577</td>\n",
       "      <td>851</td>\n",
       "      <td>230</td>\n",
       "    </tr>\n",
       "    <tr>\n",
       "      <th>3</th>\n",
       "      <td>0.20.2</td>\n",
       "      <td>1585</td>\n",
       "      <td>851</td>\n",
       "      <td>230</td>\n",
       "    </tr>\n",
       "    <tr>\n",
       "      <th>4</th>\n",
       "      <td>0.20.3</td>\n",
       "      <td>1587</td>\n",
       "      <td>852</td>\n",
       "      <td>231</td>\n",
       "    </tr>\n",
       "    <tr>\n",
       "      <th>5</th>\n",
       "      <td>0.21.0</td>\n",
       "      <td>1632</td>\n",
       "      <td>829</td>\n",
       "      <td>232</td>\n",
       "    </tr>\n",
       "  </tbody>\n",
       "</table>\n",
       "</div>"
      ],
      "text/plain": [
       "  Version  Raising Sites  Handling Sites  Re-Raise\n",
       "0  0.19.2           1547             911       237\n",
       "1  0.20.0           1577             851       230\n",
       "2  0.20.1           1577             851       230\n",
       "3  0.20.2           1585             851       230\n",
       "4  0.20.3           1587             852       231\n",
       "5  0.21.0           1632             829       232"
      ]
     },
     "execution_count": 8,
     "metadata": {},
     "output_type": "execute_result"
    }
   ],
   "source": [
    "df_principal['Re-Raise'] = [df1['re-raise'].sum(), df2['re-raise'].sum(), df3['re-raise'].sum(), df4['re-raise'].sum(), df5['re-raise'].sum(), df6['re-raise'].sum()]\n",
    "df_principal"
   ]
  },
  {
   "cell_type": "code",
   "execution_count": 9,
   "metadata": {
    "scrolled": true
   },
   "outputs": [
    {
     "data": {
      "text/html": [
       "<div>\n",
       "<style>\n",
       "    .dataframe thead tr:only-child th {\n",
       "        text-align: right;\n",
       "    }\n",
       "\n",
       "    .dataframe thead th {\n",
       "        text-align: left;\n",
       "    }\n",
       "\n",
       "    .dataframe tbody tr th {\n",
       "        vertical-align: top;\n",
       "    }\n",
       "</style>\n",
       "<table border=\"1\" class=\"dataframe\">\n",
       "  <thead>\n",
       "    <tr style=\"text-align: right;\">\n",
       "      <th></th>\n",
       "      <th>Version</th>\n",
       "      <th>Raising Sites</th>\n",
       "      <th>Handling Sites</th>\n",
       "      <th>Re-Raise</th>\n",
       "      <th>Try Blocks</th>\n",
       "    </tr>\n",
       "  </thead>\n",
       "  <tbody>\n",
       "    <tr>\n",
       "      <th>0</th>\n",
       "      <td>0.19.2</td>\n",
       "      <td>1547</td>\n",
       "      <td>911</td>\n",
       "      <td>237</td>\n",
       "      <td>868</td>\n",
       "    </tr>\n",
       "    <tr>\n",
       "      <th>1</th>\n",
       "      <td>0.20.0</td>\n",
       "      <td>1577</td>\n",
       "      <td>851</td>\n",
       "      <td>230</td>\n",
       "      <td>806</td>\n",
       "    </tr>\n",
       "    <tr>\n",
       "      <th>2</th>\n",
       "      <td>0.20.1</td>\n",
       "      <td>1577</td>\n",
       "      <td>851</td>\n",
       "      <td>230</td>\n",
       "      <td>806</td>\n",
       "    </tr>\n",
       "    <tr>\n",
       "      <th>3</th>\n",
       "      <td>0.20.2</td>\n",
       "      <td>1585</td>\n",
       "      <td>851</td>\n",
       "      <td>230</td>\n",
       "      <td>806</td>\n",
       "    </tr>\n",
       "    <tr>\n",
       "      <th>4</th>\n",
       "      <td>0.20.3</td>\n",
       "      <td>1587</td>\n",
       "      <td>852</td>\n",
       "      <td>231</td>\n",
       "      <td>807</td>\n",
       "    </tr>\n",
       "    <tr>\n",
       "      <th>5</th>\n",
       "      <td>0.21.0</td>\n",
       "      <td>1632</td>\n",
       "      <td>829</td>\n",
       "      <td>232</td>\n",
       "      <td>787</td>\n",
       "    </tr>\n",
       "  </tbody>\n",
       "</table>\n",
       "</div>"
      ],
      "text/plain": [
       "  Version  Raising Sites  Handling Sites  Re-Raise  Try Blocks\n",
       "0  0.19.2           1547             911       237         868\n",
       "1  0.20.0           1577             851       230         806\n",
       "2  0.20.1           1577             851       230         806\n",
       "3  0.20.2           1585             851       230         806\n",
       "4  0.20.3           1587             852       231         807\n",
       "5  0.21.0           1632             829       232         787"
      ]
     },
     "execution_count": 9,
     "metadata": {},
     "output_type": "execute_result"
    }
   ],
   "source": [
    "df_principal['Try Blocks'] = [df1['try'].sum(), df2['try'].sum(), df3['try'].sum(), df4['try'].sum(), df5['try'].sum(), df6['try'].sum()]\n",
    "df_principal"
   ]
  },
  {
   "cell_type": "code",
   "execution_count": 10,
   "metadata": {
    "scrolled": true
   },
   "outputs": [
    {
     "data": {
      "text/html": [
       "<div>\n",
       "<style>\n",
       "    .dataframe thead tr:only-child th {\n",
       "        text-align: right;\n",
       "    }\n",
       "\n",
       "    .dataframe thead th {\n",
       "        text-align: left;\n",
       "    }\n",
       "\n",
       "    .dataframe tbody tr th {\n",
       "        vertical-align: top;\n",
       "    }\n",
       "</style>\n",
       "<table border=\"1\" class=\"dataframe\">\n",
       "  <thead>\n",
       "    <tr style=\"text-align: right;\">\n",
       "      <th></th>\n",
       "      <th>Version</th>\n",
       "      <th>Raising Sites</th>\n",
       "      <th>Handling Sites</th>\n",
       "      <th>Re-Raise</th>\n",
       "      <th>Try Blocks</th>\n",
       "      <th>Average Size</th>\n",
       "    </tr>\n",
       "  </thead>\n",
       "  <tbody>\n",
       "    <tr>\n",
       "      <th>0</th>\n",
       "      <td>0.19.2</td>\n",
       "      <td>1547</td>\n",
       "      <td>911</td>\n",
       "      <td>237</td>\n",
       "      <td>868</td>\n",
       "      <td>5.963035</td>\n",
       "    </tr>\n",
       "    <tr>\n",
       "      <th>1</th>\n",
       "      <td>0.20.0</td>\n",
       "      <td>1577</td>\n",
       "      <td>851</td>\n",
       "      <td>230</td>\n",
       "      <td>806</td>\n",
       "      <td>6.341351</td>\n",
       "    </tr>\n",
       "    <tr>\n",
       "      <th>2</th>\n",
       "      <td>0.20.1</td>\n",
       "      <td>1577</td>\n",
       "      <td>851</td>\n",
       "      <td>230</td>\n",
       "      <td>806</td>\n",
       "      <td>6.340823</td>\n",
       "    </tr>\n",
       "    <tr>\n",
       "      <th>3</th>\n",
       "      <td>0.20.2</td>\n",
       "      <td>1585</td>\n",
       "      <td>851</td>\n",
       "      <td>230</td>\n",
       "      <td>806</td>\n",
       "      <td>6.339322</td>\n",
       "    </tr>\n",
       "    <tr>\n",
       "      <th>4</th>\n",
       "      <td>0.20.3</td>\n",
       "      <td>1587</td>\n",
       "      <td>852</td>\n",
       "      <td>231</td>\n",
       "      <td>807</td>\n",
       "      <td>6.341790</td>\n",
       "    </tr>\n",
       "    <tr>\n",
       "      <th>5</th>\n",
       "      <td>0.21.0</td>\n",
       "      <td>1632</td>\n",
       "      <td>829</td>\n",
       "      <td>232</td>\n",
       "      <td>787</td>\n",
       "      <td>6.278308</td>\n",
       "    </tr>\n",
       "  </tbody>\n",
       "</table>\n",
       "</div>"
      ],
      "text/plain": [
       "  Version  Raising Sites  Handling Sites  Re-Raise  Try Blocks  Average Size\n",
       "0  0.19.2           1547             911       237         868      5.963035\n",
       "1  0.20.0           1577             851       230         806      6.341351\n",
       "2  0.20.1           1577             851       230         806      6.340823\n",
       "3  0.20.2           1585             851       230         806      6.339322\n",
       "4  0.20.3           1587             852       231         807      6.341790\n",
       "5  0.21.0           1632             829       232         787      6.278308"
      ]
     },
     "execution_count": 10,
     "metadata": {},
     "output_type": "execute_result"
    }
   ],
   "source": [
    "df_principal['Average Size'] = [df1['size'].mean(), df2['size'].mean(), df3['size'].mean(), df4['size'].mean(), df5['size'].mean(), df6['size'].mean()]\n",
    "df_principal"
   ]
  },
  {
   "cell_type": "code",
   "execution_count": 11,
   "metadata": {
    "scrolled": true
   },
   "outputs": [
    {
     "data": {
      "text/html": [
       "<div>\n",
       "<style>\n",
       "    .dataframe thead tr:only-child th {\n",
       "        text-align: right;\n",
       "    }\n",
       "\n",
       "    .dataframe thead th {\n",
       "        text-align: left;\n",
       "    }\n",
       "\n",
       "    .dataframe tbody tr th {\n",
       "        vertical-align: top;\n",
       "    }\n",
       "</style>\n",
       "<table border=\"1\" class=\"dataframe\">\n",
       "  <thead>\n",
       "    <tr style=\"text-align: right;\">\n",
       "      <th></th>\n",
       "      <th>Version</th>\n",
       "      <th>Raising Sites</th>\n",
       "      <th>Handling Sites</th>\n",
       "      <th>Re-Raise</th>\n",
       "      <th>Try Blocks</th>\n",
       "      <th>Average Size</th>\n",
       "      <th>Methods</th>\n",
       "    </tr>\n",
       "  </thead>\n",
       "  <tbody>\n",
       "    <tr>\n",
       "      <th>0</th>\n",
       "      <td>0.19.2</td>\n",
       "      <td>1547</td>\n",
       "      <td>911</td>\n",
       "      <td>237</td>\n",
       "      <td>868</td>\n",
       "      <td>5.963035</td>\n",
       "      <td>7169</td>\n",
       "    </tr>\n",
       "    <tr>\n",
       "      <th>1</th>\n",
       "      <td>0.20.0</td>\n",
       "      <td>1577</td>\n",
       "      <td>851</td>\n",
       "      <td>230</td>\n",
       "      <td>806</td>\n",
       "      <td>6.341351</td>\n",
       "      <td>6319</td>\n",
       "    </tr>\n",
       "    <tr>\n",
       "      <th>2</th>\n",
       "      <td>0.20.1</td>\n",
       "      <td>1577</td>\n",
       "      <td>851</td>\n",
       "      <td>230</td>\n",
       "      <td>806</td>\n",
       "      <td>6.340823</td>\n",
       "      <td>6320</td>\n",
       "    </tr>\n",
       "    <tr>\n",
       "      <th>3</th>\n",
       "      <td>0.20.2</td>\n",
       "      <td>1585</td>\n",
       "      <td>851</td>\n",
       "      <td>230</td>\n",
       "      <td>806</td>\n",
       "      <td>6.339322</td>\n",
       "      <td>6345</td>\n",
       "    </tr>\n",
       "    <tr>\n",
       "      <th>4</th>\n",
       "      <td>0.20.3</td>\n",
       "      <td>1587</td>\n",
       "      <td>852</td>\n",
       "      <td>231</td>\n",
       "      <td>807</td>\n",
       "      <td>6.341790</td>\n",
       "      <td>6346</td>\n",
       "    </tr>\n",
       "    <tr>\n",
       "      <th>5</th>\n",
       "      <td>0.21.0</td>\n",
       "      <td>1632</td>\n",
       "      <td>829</td>\n",
       "      <td>232</td>\n",
       "      <td>787</td>\n",
       "      <td>6.278308</td>\n",
       "      <td>6500</td>\n",
       "    </tr>\n",
       "  </tbody>\n",
       "</table>\n",
       "</div>"
      ],
      "text/plain": [
       "  Version  Raising Sites  Handling Sites  Re-Raise  Try Blocks  Average Size  \\\n",
       "0  0.19.2           1547             911       237         868      5.963035   \n",
       "1  0.20.0           1577             851       230         806      6.341351   \n",
       "2  0.20.1           1577             851       230         806      6.340823   \n",
       "3  0.20.2           1585             851       230         806      6.339322   \n",
       "4  0.20.3           1587             852       231         807      6.341790   \n",
       "5  0.21.0           1632             829       232         787      6.278308   \n",
       "\n",
       "   Methods  \n",
       "0     7169  \n",
       "1     6319  \n",
       "2     6320  \n",
       "3     6345  \n",
       "4     6346  \n",
       "5     6500  "
      ]
     },
     "execution_count": 11,
     "metadata": {},
     "output_type": "execute_result"
    }
   ],
   "source": [
    "df_principal['Methods'] = [df1['id'].count(), df2['id'].count(), df3['id'].count(), df4['id'].count(), df5['id'].count(), df6['id'].count()]\n",
    "df_principal"
   ]
  },
  {
   "cell_type": "code",
   "execution_count": 12,
   "metadata": {
    "scrolled": true
   },
   "outputs": [
    {
     "data": {
      "text/plain": [
       "<matplotlib.axes._subplots.AxesSubplot at 0x7f64c26c5d10>"
      ]
     },
     "execution_count": 12,
     "metadata": {},
     "output_type": "execute_result"
    }
   ],
   "source": [
    "df_principal.plot(x='Version', kind='line', marker='o')"
   ]
  },
  {
   "cell_type": "code",
   "execution_count": 13,
   "metadata": {},
   "outputs": [
    {
     "data": {
      "image/png": "[encoded data removed]",
      "text/plain": [
       "<matplotlib.figure.Figure at 0x7f64c2856710>"
      ]
     },
     "metadata": {},
     "output_type": "display_data"
    }
   ],
   "source": [
    "plt.show()"
   ]
  }
 ],
 "metadata": {
  "kernelspec": {
   "display_name": "Python 2",
   "language": "python",
   "name": "python2"
  },
  "language_info": {
   "codemirror_mode": {
    "name": "ipython",
    "version": 2
   },
   "file_extension": ".py",
   "mimetype": "text/x-python",
   "name": "python",
   "nbconvert_exporter": "python",
   "pygments_lexer": "ipython2",
   "version": "2.7.14"
  }
 },
 "nbformat": 4,
 "nbformat_minor": 2
}
